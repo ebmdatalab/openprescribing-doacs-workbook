{
 "cells": [
  {
   "cell_type": "markdown",
   "metadata": {},
   "source": [
    "# ANTICOAGULATION AND THE IMPACT OF COVID-19"
   ]
  },
  {
   "cell_type": "markdown",
   "metadata": {},
   "source": [
    "In response to the onset of the COVID-19 pandemic and the implementation of “lockdown”, the NHS responded to deliver healthcare services in a manner that did not promote the spread of COVID-19. [NHS England issued anticoagulant services guidance](https://www.england.nhs.uk/coronavirus/wp-content/uploads/sites/52/2020/03/C0077-Specialty-guide_Anticoagulant-services-and-coronavirus-v1-31-March.pdf) in late March to support practices and local organisations manage their anticoagulant services including identifying patients suitable for switching from warfarin, which requires frequent blood tests with sometimes unpredictable intervals, to direct oral anticoagulants (DOACs) that require less frequent testing with predictable intervals.\n",
    "\n",
    "OpenPrescribing has a measure on the [prescribing of DOACs as proportion of all DOACs and warfarin](https://openprescribing.net/measure/doacs/) and in this notebook we will investigate further any changes since the onset of COVID-19."
   ]
  },
  {
   "cell_type": "code",
   "execution_count": 1,
   "metadata": {},
   "outputs": [],
   "source": [
    "#import libraries required for analysis\n",
    "import pandas as pd\n",
    "import matplotlib\n",
    "import matplotlib.pyplot as plt\n",
    "from ebmdatalab import bq, charts, maps\n",
    "import os"
   ]
  },
  {
   "cell_type": "code",
   "execution_count": 2,
   "metadata": {},
   "outputs": [
    {
     "data": {
      "text/html": [
       "<div>\n",
       "<style scoped>\n",
       "    .dataframe tbody tr th:only-of-type {\n",
       "        vertical-align: middle;\n",
       "    }\n",
       "\n",
       "    .dataframe tbody tr th {\n",
       "        vertical-align: top;\n",
       "    }\n",
       "\n",
       "    .dataframe thead th {\n",
       "        text-align: right;\n",
       "    }\n",
       "</style>\n",
       "<table border=\"1\" class=\"dataframe\">\n",
       "  <thead>\n",
       "    <tr style=\"text-align: right;\">\n",
       "      <th></th>\n",
       "      <th>month</th>\n",
       "      <th>pct</th>\n",
       "      <th>total_doac_items</th>\n",
       "      <th>total_doac_warfain</th>\n",
       "      <th>calc_value</th>\n",
       "    </tr>\n",
       "  </thead>\n",
       "  <tbody>\n",
       "    <tr>\n",
       "      <th>0</th>\n",
       "      <td>2020-05-01</td>\n",
       "      <td>00R</td>\n",
       "      <td>2770</td>\n",
       "      <td>5833</td>\n",
       "      <td>0.474884</td>\n",
       "    </tr>\n",
       "    <tr>\n",
       "      <th>1</th>\n",
       "      <td>2020-07-01</td>\n",
       "      <td>00R</td>\n",
       "      <td>3194</td>\n",
       "      <td>6563</td>\n",
       "      <td>0.486668</td>\n",
       "    </tr>\n",
       "    <tr>\n",
       "      <th>2</th>\n",
       "      <td>2015-08-01</td>\n",
       "      <td>00R</td>\n",
       "      <td>293</td>\n",
       "      <td>4584</td>\n",
       "      <td>0.063918</td>\n",
       "    </tr>\n",
       "    <tr>\n",
       "      <th>3</th>\n",
       "      <td>2020-06-01</td>\n",
       "      <td>00R</td>\n",
       "      <td>2899</td>\n",
       "      <td>6030</td>\n",
       "      <td>0.480763</td>\n",
       "    </tr>\n",
       "    <tr>\n",
       "      <th>4</th>\n",
       "      <td>2019-08-01</td>\n",
       "      <td>03R</td>\n",
       "      <td>5555</td>\n",
       "      <td>13767</td>\n",
       "      <td>0.403501</td>\n",
       "    </tr>\n",
       "  </tbody>\n",
       "</table>\n",
       "</div>"
      ],
      "text/plain": [
       "       month  pct  total_doac_items  total_doac_warfain  calc_value\n",
       "0 2020-05-01  00R              2770                5833    0.474884\n",
       "1 2020-07-01  00R              3194                6563    0.486668\n",
       "2 2015-08-01  00R               293                4584    0.063918\n",
       "3 2020-06-01  00R              2899                6030    0.480763\n",
       "4 2019-08-01  03R              5555               13767    0.403501"
      ]
     },
     "execution_count": 2,
     "metadata": {},
     "output_type": "execute_result"
    }
   ],
   "source": [
    "sql1 = '''\n",
    "SELECT\n",
    "  month,\n",
    "  pct_id,\n",
    "  sum(numerator) as total_doac_items,\n",
    "  sum(denominator) as total_doac_warfain,\n",
    "  calc_value\n",
    "FROM\n",
    "  `ebmdatalab.measures.ccg_data_doacs` AS p\n",
    "GROUP BY\n",
    "month,\n",
    "pct_id,\n",
    "calc_value\n",
    "'''\n",
    "\n",
    "df_doac_measure = bq.cached_read(sql1, csv_path=os.path.join('..', 'data', 'df_doac_measure.csv'))\n",
    "df_doac_measure['month'] = pd.to_datetime(df_doac_measure['month'])\n",
    "df_doac_measure.rename(columns={'pct_id':'pct'}, inplace=True) ##prep for maps library whe  pct must be colum name\n",
    "df_doac_measure.head(5)"
   ]
  },
  {
   "cell_type": "code",
   "execution_count": 3,
   "metadata": {},
   "outputs": [
    {
     "data": {
      "text/html": [
       "<div>\n",
       "<style scoped>\n",
       "    .dataframe tbody tr th:only-of-type {\n",
       "        vertical-align: middle;\n",
       "    }\n",
       "\n",
       "    .dataframe tbody tr th {\n",
       "        vertical-align: top;\n",
       "    }\n",
       "\n",
       "    .dataframe thead th {\n",
       "        text-align: right;\n",
       "    }\n",
       "</style>\n",
       "<table border=\"1\" class=\"dataframe\">\n",
       "  <thead>\n",
       "    <tr style=\"text-align: right;\">\n",
       "      <th></th>\n",
       "      <th>month</th>\n",
       "      <th>doac_ddd</th>\n",
       "    </tr>\n",
       "  </thead>\n",
       "  <tbody>\n",
       "    <tr>\n",
       "      <th>0</th>\n",
       "      <td>2010-08-01 00:00:00+00:00</td>\n",
       "      <td>1189.0</td>\n",
       "    </tr>\n",
       "    <tr>\n",
       "      <th>1</th>\n",
       "      <td>2010-08-01 00:00:00+00:00</td>\n",
       "      <td>2560.0</td>\n",
       "    </tr>\n",
       "    <tr>\n",
       "      <th>2</th>\n",
       "      <td>2010-08-01 00:00:00+00:00</td>\n",
       "      <td>280.0</td>\n",
       "    </tr>\n",
       "    <tr>\n",
       "      <th>3</th>\n",
       "      <td>2010-08-01 00:00:00+00:00</td>\n",
       "      <td>310.0</td>\n",
       "    </tr>\n",
       "    <tr>\n",
       "      <th>4</th>\n",
       "      <td>2010-08-01 00:00:00+00:00</td>\n",
       "      <td>567.0</td>\n",
       "    </tr>\n",
       "  </tbody>\n",
       "</table>\n",
       "</div>"
      ],
      "text/plain": [
       "                      month  doac_ddd\n",
       "0 2010-08-01 00:00:00+00:00    1189.0\n",
       "1 2010-08-01 00:00:00+00:00    2560.0\n",
       "2 2010-08-01 00:00:00+00:00     280.0\n",
       "3 2010-08-01 00:00:00+00:00     310.0\n",
       "4 2010-08-01 00:00:00+00:00     567.0"
      ]
     },
     "execution_count": 3,
     "metadata": {},
     "output_type": "execute_result"
    }
   ],
   "source": [
    "sql2 = '''\n",
    "SELECT\n",
    "  month,\n",
    "  SUM(CASE\n",
    "      WHEN SUBSTR(bnf_code,8,8)='Y0____AA' THEN quantity * 0.5   #riva 10mg\n",
    "      WHEN SUBSTR(bnf_code,8,8)='Y0____AB' THEN quantity * 0.75  #riva 15mg\n",
    "      WHEN SUBSTR(bnf_code,8,8)='Y0____AD' THEN quantity * 0.125 #riva 2.5mg\n",
    "      WHEN SUBSTR(bnf_code,8,8)='Z0____AA' THEN quantity * 0.25  #apix 2.5mg\n",
    "      WHEN SUBSTR(bnf_code,8,8)='Z0____AB' THEN quantity * 0.5   #apix 5mg\n",
    "      WHEN SUBSTR(bnf_code,8,8)='AA____AB' THEN quantity * 0.5   #edoxab 30mg\n",
    "      WHEN SUBSTR(bnf_code,8,8)='AA____AA' THEN quantity * 0.25  #edoxaban 15mg\n",
    "      WHEN SUBSTR(bnf_code,8,8)='X0____AB' THEN quantity * 0.37  #dabig 110mg\n",
    "      WHEN SUBSTR(bnf_code,8,8)='X0____AC' THEN quantity * 0.5   #dabig 150mg\n",
    "      WHEN SUBSTR(bnf_code,8,8)='Y0____AA' THEN quantity * 0.25  #dabi 75mg\n",
    "      ELSE quantity END) AS doac_ddd\n",
    "FROM\n",
    "  ebmdatalab.hscic.normalised_prescribing AS rx\n",
    "WHERE\n",
    " bnf_code NOT LIKE '0208020Y%AE' AND #riva combo pack\n",
    " (bnf_code LIKE '0208020Z0%' OR #Apixaban\n",
    "  bnf_code LIKE '0208020X0%' OR #Dabigatran\n",
    "  bnf_code LIKE '0208020AA%' OR #Edoxaban \n",
    "  bnf_code LIKE '0208020Y0%' )  #Rivaroxaban\n",
    "GROUP BY\n",
    "  month,\n",
    "  bnf_name,\n",
    "  bnf_code\n",
    "ORDER BY\n",
    "  month\n",
    "'''\n",
    "\n",
    "df_doacs = bq.cached_read(sql2, csv_path=os.path.join('..', 'data', 'df_doacs.csv'))\n",
    "df_doacs['month'] = pd.to_datetime(df_doacs['month'])\n",
    "df_doacs.head(5)"
   ]
  },
  {
   "cell_type": "markdown",
   "metadata": {},
   "source": [
    "Daily Defined Doeses (DDD) is the a [WHO classication system for medicines]. It allows comparisons through measurement and is defined as _the assumed average maintenance dose per day for a drug used for its main indication in adults_. \n",
    "- rivaroxaban DDD 20mg   Ref: https://www.whocc.no/atc_ddd_index/?code=B01AF01 \n",
    "- edoxaban    DDD 60mg   Ref: https://www.whocc.no/atc_ddd_index/?code=B01AF03\n",
    "- dabigatran  DDD 300mg  Ref: https://www.whocc.no/atc_ddd_index/?code=B01AE07\n",
    "- apixaban    DDD 10mg   Ref: https://www.whocc.no/atc_ddd_index/?code=B01AF02\n",
    "\n",
    "*Formula*\n",
    "Amount of DDDs on an Rx = (mg in presentation / mg in DDD WHO table) * quantity "
   ]
  },
  {
   "cell_type": "code",
   "execution_count": 4,
   "metadata": {},
   "outputs": [
    {
     "data": {
      "text/plain": [
       "(0, 51290305.05)"
      ]
     },
     "execution_count": 4,
     "metadata": {},
     "output_type": "execute_result"
    },
    {
     "data": {
      "image/png": "[encoded data removed]",
      "text/plain": [
       "<Figure size 432x288 with 1 Axes>"
      ]
     },
     "metadata": {
      "needs_background": "light"
     },
     "output_type": "display_data"
    }
   ],
   "source": [
    "ax = df_doacs.groupby([\"month\"])['doac_ddd'].sum().plot(kind='line', title=\"Total DOACs DDD\")\n",
    "ax.axvline(pd.to_datetime('2020-03-30'), color='black', linestyle='--', lw=2) \n",
    "plt.ylim(0, )"
   ]
  },
  {
   "cell_type": "code",
   "execution_count": 5,
   "metadata": {},
   "outputs": [
    {
     "data": {
      "text/plain": [
       "(0, 1197012.65)"
      ]
     },
     "execution_count": 5,
     "metadata": {},
     "output_type": "execute_result"
    },
    {
     "data": {
      "image/png": "[encoded data removed]",
      "text/plain": [
       "<Figure size 432x288 with 1 Axes>"
      ]
     },
     "metadata": {
      "needs_background": "light"
     },
     "output_type": "display_data"
    }
   ],
   "source": [
    "# measure graph\n",
    "ax = df_doac_measure.groupby([\"month\"])['total_doac_items'].sum().plot(kind='line', title=\"Total Number of DOAC Items\")\n",
    "#ax.axvline(pd.to_datetime('2019-04-01'), color='black', linestyle='--', lw=2) ##law change\n",
    "plt.ylim(0, )"
   ]
  },
  {
   "cell_type": "code",
   "execution_count": null,
   "metadata": {
    "lines_to_next_cell": 2
   },
   "outputs": [],
   "source": []
  }
 ],
 "metadata": {
  "jupytext": {
   "cell_metadata_filter": "all",
   "encoding": "# -*- coding: utf-8 -*-",
   "notebook_metadata_filter": "all,-language_info",
   "text_representation": {
    "extension": ".py",
    "format_name": "light",
    "format_version": "1.5",
    "jupytext_version": "1.3.3"
   }
  },
  "kernelspec": {
   "display_name": "Python 3",
   "language": "python",
   "name": "python3"
  },
  "language_info": {
   "codemirror_mode": {
    "name": "ipython",
    "version": 3
   },
   "file_extension": ".py",
   "mimetype": "text/x-python",
   "name": "python",
   "nbconvert_exporter": "python",
   "pygments_lexer": "ipython3",
   "version": "3.8.1"
  }
 },
 "nbformat": 4,
 "nbformat_minor": 4
}
